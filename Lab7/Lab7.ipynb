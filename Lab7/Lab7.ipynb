{
 "cells": [
  {
   "cell_type": "code",
   "execution_count": 1,
   "metadata": {},
   "outputs": [],
   "source": [
    "%matplotlib inline\n",
    "\n",
    "import gym\n",
    "import numpy as np\n",
    "import matplotlib.pyplot as plt\n",
    "\n",
    "from IPython import display"
   ]
  },
  {
   "cell_type": "code",
   "execution_count": 2,
   "metadata": {},
   "outputs": [
    {
     "data": {
      "text/plain": [
       "array([-0.02592848, -0.00251224,  0.04791774, -0.00451816])"
      ]
     },
     "execution_count": 2,
     "metadata": {},
     "output_type": "execute_result"
    }
   ],
   "source": [
    "env = gym.make('CartPole-v0')\n",
    "env.reset()"
   ]
  },
  {
   "cell_type": "code",
   "execution_count": 3,
   "metadata": {
    "scrolled": true
   },
   "outputs": [],
   "source": [
    "#img = plt.imshow(env.render(mode='rgb_array')) # only call this once"
   ]
  },
  {
   "cell_type": "code",
   "execution_count": 4,
   "metadata": {},
   "outputs": [],
   "source": [
    "N_ACTIONS = env.action_space.n\n",
    "N_STATES  = env.observation_space.shape[0]\n",
    "\n",
    "EPISODE_LENGTH = 250"
   ]
  },
  {
   "cell_type": "code",
   "execution_count": 5,
   "metadata": {},
   "outputs": [],
   "source": [
    "def try_policy(policy, env):\n",
    "    s0 = env.reset()\n",
    "    img = plt.imshow(env.render(mode='rgb_array'))\n",
    "    plt.show()\n",
    "    state = s0\n",
    "    reward = 0\n",
    "    for step in range(EPISODE_LENGTH):\n",
    "        img.set_data(env.render(mode='rgb_array'))\n",
    "        plt.title(\"%s | Step: %d - reward %f\" % (env.spec.id,step, reward))\n",
    "        display.display(plt.gcf())\n",
    "        display.clear_output(wait=True)\n",
    "        action = policy(state)\n",
    "        observation, reward, done, info = env.step(action)\n",
    "        state = observation\n",
    "        if done:\n",
    "            print('Done in %d iterations'%step)\n",
    "            break"
   ]
  },
  {
   "cell_type": "markdown",
   "metadata": {},
   "source": [
    "# Exercise 1\n",
    "\n",
    "## Going right policy"
   ]
  },
  {
   "cell_type": "code",
   "execution_count": 20,
   "metadata": {},
   "outputs": [],
   "source": [
    "right_policy = lambda x : 1\n",
    "try_policy(right_policy, env)"
   ]
  },
  {
   "cell_type": "markdown",
   "metadata": {},
   "source": [
    "The environnment fires a stop when it reaches an unrecovarable state"
   ]
  },
  {
   "cell_type": "markdown",
   "metadata": {},
   "source": [
    "## Going $sign(\\theta)$ policy"
   ]
  },
  {
   "cell_type": "code",
   "execution_count": 58,
   "metadata": {},
   "outputs": [],
   "source": [
    "sign_policy = lambda x : 1 if x[2] > 0 else 0\n",
    "try_policy(sign_policy, env)"
   ]
  },
  {
   "cell_type": "markdown",
   "metadata": {},
   "source": [
    "# Exercises 2 to 4\n",
    "\n",
    "### Sigmoid policy - Gradient policy"
   ]
  },
  {
   "cell_type": "code",
   "execution_count": 6,
   "metadata": {},
   "outputs": [],
   "source": [
    "class PolicyGradient:\n",
    "    def __init__(self, env, episode_length=EPISODE_LENGTH, reg_l1 = 0):\n",
    "        self.theta = np.random.random((N_STATES,)) - 0.5\n",
    "        self.env = env\n",
    "        self.episode_length = episode_length\n",
    "        self.reg_l1 = reg_l1\n",
    "        self.epoch = 0\n",
    "        \n",
    "    def policy_proba_right(self, state):\n",
    "        return 1./(1+np.exp(-np.dot(self.theta, state)))\n",
    "    \n",
    "    def take_action(self, state):\n",
    "        p = self.policy_proba_right(state)\n",
    "        return np.random.binomial(1,p)\n",
    "        #return int(np.round(p)+ 0.0001)\n",
    "        \n",
    "    def learning_rate(self):\n",
    "        return 1/(10+self.epoch*0.1)\n",
    "\n",
    "    def run_one_epoch(self):\n",
    "        state = env.reset()\n",
    "        episodes = []\n",
    "        for i in range(self.episode_length):\n",
    "            action = self.take_action(state)\n",
    "            new_state, reward, done, info = env.step(action)\n",
    "            reward -= abs(new_state[0])\n",
    "            episodes.append([state, action, reward])\n",
    "            state = new_state\n",
    "            if done:\n",
    "                break\n",
    "        return episodes\n",
    "    \n",
    "    def estimate_baseline(self):\n",
    "        baseline = np.zeros((self.episode_length))\n",
    "        n = 10\n",
    "        for i in range(n):\n",
    "            episode = self.run_one_epoch()\n",
    "            l = len(episode)\n",
    "            cumulative = 0\n",
    "            for i in range(l-1, -1, -1):\n",
    "                cumulative += episode[i][2]\n",
    "                baseline[i] += cumulative\n",
    "        baseline /= n\n",
    "        return baseline\n",
    "                \n",
    "    def train_one_epoch(self):\n",
    "        baseline = self.estimate_baseline()\n",
    "        episode = self.run_one_epoch()\n",
    "        \n",
    "        cumulative_reward = 0\n",
    "        pg = np.zeros(N_STATES)\n",
    "        \n",
    "        for (state, action, reward), base in list(zip(episode, baseline))[::-1]:\n",
    "            cumulative_reward += reward\n",
    "            if action == 1:\n",
    "                pg += (1-self.policy_proba_right(state))*state*(cumulative_reward-base) + self.reg_l1*np.sign(self.theta)\n",
    "            else:\n",
    "                pg += -self.policy_proba_right(state)*state*(cumulative_reward-base) - self.reg_l1*np.sign(self.theta)\n",
    "        \n",
    "        self.theta += self.learning_rate() * pg\n",
    "        \n",
    "        return cumulative_reward\n",
    "        \n",
    "    def train(self, n=100):\n",
    "        rewards = []\n",
    "        for i in range(n):\n",
    "            rewards.append(self.train_one_epoch())\n",
    "            print(np.mean(rewards[-10:]))\n",
    "        "
   ]
  },
  {
   "cell_type": "code",
   "execution_count": 7,
   "metadata": {},
   "outputs": [],
   "source": [
    "sigmoid_policy = PolicyGradient(env, reg_l1=0.01)"
   ]
  },
  {
   "cell_type": "code",
   "execution_count": 8,
   "metadata": {
    "scrolled": true
   },
   "outputs": [
    {
     "name": "stdout",
     "output_type": "stream",
     "text": [
      "12.62803606140461\n",
      "12.849066179220017\n",
      "25.405678862037632\n",
      "34.89639479989553\n",
      "38.79709223979273\n",
      "40.023306042363906\n",
      "40.1022882806718\n",
      "39.33102277086499\n",
      "36.01179876036295\n",
      "33.18390574761667\n",
      "32.87049781232614\n",
      "32.50591478851355\n",
      "28.318629114886686\n",
      "22.973121454916857\n",
      "18.47998738950591\n",
      "14.726067811704834\n",
      "11.53372251229818\n",
      "9.259867681408878\n",
      "9.134393232547325\n",
      "9.292885545729135\n",
      "9.178048981958684\n",
      "9.093997260095888\n",
      "8.990946865752562\n",
      "8.893649951496036\n",
      "9.087306256633639\n",
      "9.122886324741733\n",
      "9.156267627345285\n",
      "8.849862884555414\n",
      "9.118359820924493\n",
      "8.94535994516303\n",
      "9.055997707013407\n",
      "8.946336588874711\n",
      "9.089244328510107\n",
      "9.096680274362836\n",
      "8.869349448319793\n",
      "8.83230193336737\n",
      "8.771281127808932\n",
      "8.812996917372896\n",
      "8.47068626237807\n",
      "8.656289474279358\n",
      "8.64181259264149\n",
      "9.06490300691629\n",
      "9.024606353818674\n",
      "8.93875270488743\n",
      "8.798813356858057\n",
      "8.88940422043623\n",
      "8.917050466024062\n",
      "8.903615916596506\n",
      "9.015579059455348\n",
      "9.217538043555832\n",
      "9.172476737620672\n",
      "8.839494123876303\n",
      "8.838056019803744\n",
      "8.964375126571074\n",
      "8.927375549958642\n",
      "8.84041373471142\n",
      "8.748490235435014\n",
      "8.925692605333236\n",
      "9.128273626303939\n",
      "8.879079889476131\n",
      "8.92151285101563\n",
      "8.94882246529743\n",
      "9.01680418847061\n",
      "8.885687566216452\n",
      "9.062694628223888\n",
      "9.371820414428788\n",
      "9.530061859636483\n",
      "9.452159175925683\n",
      "9.295396040512717\n",
      "9.264483709498407\n",
      "9.102742446705982\n",
      "9.092526232228202\n",
      "9.026260996589839\n",
      "9.161960218254649\n",
      "9.198456202018667\n",
      "8.93363804525414\n",
      "9.144900561016932\n",
      "9.124588459867258\n",
      "9.120863555445165\n",
      "9.07379480788085\n",
      "9.255405819974587\n",
      "9.330058727937484\n",
      "9.404968995221704\n",
      "9.411445753860807\n",
      "9.215802985848569\n",
      "9.172956726897999\n",
      "8.865795758260086\n",
      "8.787732599039153\n",
      "9.30846290360702\n",
      "9.331902741443425\n",
      "9.350752898197397\n",
      "9.264585102479025\n",
      "9.462334339388054\n",
      "9.4737802346037\n",
      "9.541356772334375\n",
      "9.42990504706084\n",
      "9.50694495848489\n",
      "9.488099204990998\n",
      "8.839847763812267\n",
      "8.936270463929594\n",
      "9.212809762493524\n",
      "9.30530467256538\n",
      "9.026312902878981\n",
      "9.005030714279002\n",
      "9.126276294674126\n",
      "9.234844706084175\n",
      "9.095424109537834\n",
      "9.21927480734848\n",
      "9.311794382269408\n",
      "9.326190832979526\n",
      "8.940432603648297\n",
      "8.81973658191695\n",
      "8.794596816458661\n",
      "8.7762643618775\n",
      "8.694843301262576\n",
      "8.756800059726059\n",
      "8.888884491558047\n",
      "8.70488894415919\n",
      "8.780674099204287\n",
      "8.632919932952426\n",
      "8.712088354182503\n",
      "8.828792964545125\n",
      "8.750169769483126\n",
      "8.69030039292058\n",
      "8.760562415308325\n",
      "8.787460745348135\n",
      "9.0161529013149\n",
      "9.392349270084818\n",
      "9.313186225626001\n",
      "9.695140567886503\n",
      "9.589420713848131\n",
      "9.605677571636807\n",
      "9.666192551952172\n",
      "9.575611085025388\n",
      "9.474042846089166\n",
      "9.278329632198469\n",
      "9.053516292250261\n",
      "8.749600345042019\n",
      "8.749368992054533\n",
      "8.492392536020615\n",
      "8.521002033217357\n",
      "8.431365073406159\n",
      "8.434501443365448\n",
      "8.566798499206737\n",
      "8.760129959230124\n",
      "8.953021635364792\n",
      "8.817099124943102\n",
      "8.84221875238724\n",
      "9.316569151078074\n",
      "9.522322704791558\n",
      "9.612592750990196\n",
      "9.654547544991882\n",
      "9.783687870854369\n",
      "9.74084119749645\n",
      "9.820459404237512\n",
      "9.778315896028632\n",
      "9.937238679719574\n",
      "10.132344667543716\n",
      "9.702386538079944\n",
      "9.759221807907892\n",
      "9.58498561840734\n",
      "9.551738703962945\n",
      "9.640668977218034\n",
      "9.693895372985859\n",
      "9.54021230544086\n",
      "9.47527720840302\n",
      "9.571037998188675\n",
      "9.546781664960267\n",
      "9.414006305030227\n",
      "9.131021003296352\n",
      "9.557482807591821\n",
      "9.800411578436178\n",
      "9.69760777163275\n",
      "9.637683237912475\n",
      "9.803241198855236\n",
      "9.994737805116022\n",
      "10.108074276793518\n",
      "10.089343374735316\n",
      "10.169691008236352\n",
      "10.014377355984731\n",
      "9.762794379925817\n",
      "9.706530570645105\n",
      "9.917653547748777\n",
      "10.609011366937562\n",
      "10.61870166207557\n",
      "10.531464187320724\n",
      "10.337863697093193\n",
      "10.146234124960644\n",
      "10.539557337702549\n",
      "11.24062245781991\n",
      "11.542278821910752\n",
      "11.403288323794486\n",
      "11.169282201938845\n",
      "10.555774710918664\n",
      "21.05281787245637\n",
      "21.05381527091916\n",
      "21.058831745284344\n",
      "21.274120389738577\n",
      "20.91491567944654\n",
      "20.324017421368954\n"
     ]
    }
   ],
   "source": [
    "sigmoid_policy.train(200)"
   ]
  },
  {
   "cell_type": "code",
   "execution_count": 9,
   "metadata": {},
   "outputs": [
    {
     "data": {
      "text/plain": [
       "array([ 0.32724725, 11.76391507,  3.2081918 ,  1.72244297])"
      ]
     },
     "execution_count": 9,
     "metadata": {},
     "output_type": "execute_result"
    }
   ],
   "source": [
    "sigmoid_policy.theta"
   ]
  },
  {
   "cell_type": "code",
   "execution_count": 176,
   "metadata": {},
   "outputs": [
    {
     "name": "stdout",
     "output_type": "stream",
     "text": [
      "Done in 199 iterations\n"
     ]
    },
    {
     "data": {
      "image/png": "[encoded data removed]",
      "text/plain": [
       "<Figure size 432x288 with 1 Axes>"
      ]
     },
     "metadata": {
      "needs_background": "light"
     },
     "output_type": "display_data"
    }
   ],
   "source": [
    "try_policy(sigmoid_policy.take_action, env)"
   ]
  },
  {
   "cell_type": "code",
   "execution_count": 119,
   "metadata": {},
   "outputs": [
    {
     "data": {
      "text/plain": [
       "array([ 3.92226949, 22.48545519, 30.49258139, 41.07389606])"
      ]
     },
     "execution_count": 119,
     "metadata": {},
     "output_type": "execute_result"
    }
   ],
   "source": [
    "sigmoid_policy.theta"
   ]
  },
  {
   "cell_type": "code",
   "execution_count": 88,
   "metadata": {},
   "outputs": [
    {
     "data": {
      "text/plain": [
       "array([-22.07766005,  68.62820363,  46.82557423,  24.51491989])"
      ]
     },
     "execution_count": 88,
     "metadata": {},
     "output_type": "execute_result"
    }
   ],
   "source": [
    "sigmoid_policy.theta"
   ]
  },
  {
   "cell_type": "code",
   "execution_count": null,
   "metadata": {},
   "outputs": [],
   "source": [
    "#Todo: Define a Q-table to host the Q-function estimate\n",
    "q_table = np.zeros(()\n",
    "for i_episode in range(20):\n",
    "    observation = env.reset()\n",
    "    for t in range(100):\n",
    "        env.render()\n",
    "        print(observation)\n",
    "        action = env.action_space.sample() # Returns a random action.\n",
    "        # Todo: Replace the above function with one that selects an action based on your algorithm (i.e., SARSA with $\\epsilon$-greedy exploration.\n",
    "        \n",
    "        observation, reward, done, info = env.step(action)\n",
    "        # Todo: Update the tabular estimate of the Q-function using the update rule of the algorithm(SARSA or Q-learning)\n",
    "        \n",
    "        if done:\n",
    "            print(\"Episode finished after {} timesteps\".format(t+1))\n",
    "            break"
   ]
  }
 ],
 "metadata": {
  "kernelspec": {
   "display_name": "Python 3",
   "language": "python",
   "name": "python3"
  },
  "language_info": {
   "codemirror_mode": {
    "name": "ipython",
    "version": 3
   },
   "file_extension": ".py",
   "mimetype": "text/x-python",
   "name": "python",
   "nbconvert_exporter": "python",
   "pygments_lexer": "ipython3",
   "version": "3.6.8"
  }
 },
 "nbformat": 4,
 "nbformat_minor": 2
}
