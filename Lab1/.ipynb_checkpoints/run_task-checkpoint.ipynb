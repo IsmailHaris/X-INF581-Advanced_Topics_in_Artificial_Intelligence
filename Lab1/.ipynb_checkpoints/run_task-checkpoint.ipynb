{
 "cells": [
  {
   "cell_type": "code",
   "execution_count": 1,
   "metadata": {},
   "outputs": [],
   "source": [
    "from numpy import *\n",
    "from utils import tile2pos, pos2tile\n",
    "from copy import deepcopy"
   ]
  },
  {
   "cell_type": "code",
   "execution_count": 2,
   "metadata": {},
   "outputs": [],
   "source": [
    "def proba(tile, X):\n",
    "    pos = tuple(tile2pos(tile))\n",
    "    x1  = X[0]\n",
    "    x2  = X[1]\n",
    "    p1  = 0.9\n",
    "    p2  = 0.8\n",
    "    \n",
    "    if pos in [(0,0),(1,1),(3,3)]: # brown cases\n",
    "        res1 = p1 if x1 else 1-p1\n",
    "        res2 = p2 if x2 else 1-p2\n",
    "    elif pos in [(1,0),(1,2),(2,1),(3,4)]: # green case\n",
    "        res1 = p1 if x1 else 1-p1\n",
    "        res2 = not x2\n",
    "    elif pos in [(0,3),(1,3),(2,4),(4,0)]: # red case\n",
    "        res1 = not x1\n",
    "        res2 = p2 if x2 else 1-p2\n",
    "    else: # normal case\n",
    "        res1 = not x1\n",
    "        res2 = not x2\n",
    "\n",
    "    #DEBUG: print(pos, X, int(res1), int(res2))\n",
    "    return res1*res2\n",
    "\n",
    "\n",
    "def neighbors(tile):\n",
    "    neighbors = []\n",
    "\n",
    "    pos = tuple(tile2pos(tile))\n",
    "    x = pos[0]\n",
    "    y = pos[1]\n",
    "\n",
    "    up = down = right = left = 0\n",
    "\n",
    "    if x != 0:\n",
    "        left = -1\n",
    "    if x != 4:\n",
    "        right = 1\n",
    "    if y != 0:\n",
    "        down = -1\n",
    "    if y != 4:\n",
    "        up = 1\n",
    "\n",
    "    neighbors = list(set([(x+right,y), (x+left,y), (x,y+up), (x,y+down)]))\n",
    "    if pos in neighbors:\n",
    "        neighbors.remove(pos)\n",
    "    return neighbors\n",
    "\n",
    "def print_paths(paths):\n",
    "    print(\"{} potential paths:\".format(len(paths)))\n",
    "    for y, p in paths:\n",
    "        print(\"    y = %s <=> %s, finishing at y = %d (tile: %s), with proba %s\" % (str(y), str([(tile2pos(y[i])[0],tile2pos(y[i])[1]) for i in range(len(y))]), y[-1], str(tile2pos(y[-1])), str(round(p,4))))"
   ]
  },
  {
   "cell_type": "code",
   "execution_count": 3,
   "metadata": {},
   "outputs": [],
   "source": [
    "def explore_paths(X,y,p=1.,t=0):\n",
    "    '''\n",
    "        Explore paths.\n",
    "                          \n",
    "        Explore all possible paths that the target may take, store them in 'paths' with an associated score (probability).\n",
    "\n",
    "        Parameters\n",
    "        ----------\n",
    "\n",
    "        X: the T observations\n",
    "        y: the path, of length T,\n",
    "        p: score/probability of the path y.\n",
    "        t: time-step of the path\n",
    "        paths: reference to a list, when t = T - 1, then add (y,p) to this list, else update y and p \n",
    "               and recursively call the function with (paths,X,y,p,t+1)\n",
    "    '''\n",
    "    T = X.shape[0]\n",
    "\n",
    "    # if probability 0, return\n",
    "    # ...\n",
    "    if p == 0:\n",
    "        return\n",
    "    \n",
    "    # if path complete, add it and retutrn\n",
    "    # ...\n",
    "    if t == T:\n",
    "        paths.append([y.astype(int),p])\n",
    "    \n",
    "    elif t == 0:\n",
    "        entry_pos = [(0,4),(2,0)]\n",
    "        for n_pos in entry_pos:\n",
    "            n_tile = pos2tile(n_pos)\n",
    "            y_new = deepcopy(y)\n",
    "            y_new[t] = n_tile\n",
    "            explore_paths(X,y_new,p=.5,t=t+1)\n",
    "    else:\n",
    "        tile = y[t-1]\n",
    "        #DEBUG: print(tile, neighbors(tile))\n",
    "        # for each state i:\n",
    "        #   y_new <- mark it into the path y (N.B. good to make a copy(.) of the path here)\n",
    "        #   p_new <- get the probabilitiy associated with it\n",
    "        #   call the same function: explore_paths(paths,X,y_new,p_new,t+1) ...\n",
    "        for n_pos in neighbors(tile):\n",
    "            n_tile = pos2tile(n_pos)\n",
    "            y_new = deepcopy(y)\n",
    "            y_new[t] = n_tile\n",
    "            p_new = p*proba(n_tile, X[t])\n",
    "            explore_paths(X,y_new,p=p_new,t=t+1)\n",
    "\n"
   ]
  },
  {
   "cell_type": "code",
   "execution_count": 4,
   "metadata": {},
   "outputs": [
    {
     "name": "stdout",
     "output_type": "stream",
     "text": [
      "[[0 0]\n",
      " [0 1]\n",
      " [0 0]\n",
      " [0 1]\n",
      " [0 0]]\n"
     ]
    }
   ],
   "source": [
    "# Load some paths and their observations\n",
    "X = loadtxt('X.dat', dtype=int)\n",
    "y = loadtxt('y.dat', dtype=int)\n",
    "\n",
    "seed = 0\n",
    "X = X[seed:seed+5,:]\n",
    "print(X)\n",
    "y = y[seed:seed+5]"
   ]
  },
  {
   "cell_type": "code",
   "execution_count": 5,
   "metadata": {},
   "outputs": [],
   "source": [
    "#####################################\n",
    "\n",
    "# Obtain all *possible* paths and a relative score (probability) associated with each\n",
    "T,D = X.shape\n",
    "paths = []\n",
    "explore_paths(X,y=-ones(T))"
   ]
  },
  {
   "cell_type": "code",
   "execution_count": 6,
   "metadata": {
    "scrolled": false
   },
   "outputs": [
    {
     "name": "stdout",
     "output_type": "stream",
     "text": [
      "9 potential paths:\n",
      "    y = [4 3 8 3 8] <=> [(0, 4), (0, 3), (1, 3), (0, 3), (1, 3)], finishing at y = 8 (tile: [1 3]), with proba 0.0083\n",
      "    y = [4 3 8 3 2] <=> [(0, 4), (0, 3), (1, 3), (0, 3), (0, 2)], finishing at y = 2 (tile: [0 2]), with proba 0.0413\n",
      "    y = [4 3 8 3 4] <=> [(0, 4), (0, 3), (1, 3), (0, 3), (0, 4)], finishing at y = 4 (tile: [0 4]), with proba 0.0413\n",
      "    y = [4 3 2 3 8] <=> [(0, 4), (0, 3), (0, 2), (0, 3), (1, 3)], finishing at y = 8 (tile: [1 3]), with proba 0.0413\n",
      "    y = [4 3 2 3 2] <=> [(0, 4), (0, 3), (0, 2), (0, 3), (0, 2)], finishing at y = 2 (tile: [0 2]), with proba 0.2066\n",
      "    y = [4 3 2 3 4] <=> [(0, 4), (0, 3), (0, 2), (0, 3), (0, 4)], finishing at y = 4 (tile: [0 4]), with proba 0.2066\n",
      "    y = [4 3 4 3 8] <=> [(0, 4), (0, 3), (0, 4), (0, 3), (1, 3)], finishing at y = 8 (tile: [1 3]), with proba 0.0413\n",
      "    y = [4 3 4 3 2] <=> [(0, 4), (0, 3), (0, 4), (0, 3), (0, 2)], finishing at y = 2 (tile: [0 2]), with proba 0.2066\n",
      "    y = [4 3 4 3 4] <=> [(0, 4), (0, 3), (0, 4), (0, 3), (0, 4)], finishing at y = 4 (tile: [0 4]), with proba 0.2066\n"
     ]
    }
   ],
   "source": [
    "# Print out these paths and their joint-mode score (normalized to a distribution, st they sum to 1) ...\n",
    "# (TODO), e.g.,  \n",
    "#   [  4   3   8  13  18], 0.8   (equiv. grid path : [(0, 4), (0, 3), (1, 3), (2, 3), (3, 3)])\n",
    "#   [  4   9   8  7  6],   0.2   (equiv. grid path : [(0, 4), (1, 4), (1, 3), (1, 2), (1, 1)])\n",
    "\n",
    "# Normalize probas\n",
    "paths = array(paths)\n",
    "paths[:,1] /= sum(paths[:,1])\n",
    "print_paths(paths)"
   ]
  },
  {
   "cell_type": "code",
   "execution_count": 7,
   "metadata": {},
   "outputs": [
    {
     "name": "stdout",
     "output_type": "stream",
     "text": [
      "3 potential final nodes:\n",
      "    8 <=> tile [1 3], with proba 0.0909\n",
      "    2 <=> tile [0 2], with proba 0.4545\n",
      "    4 <=> tile [0 4], with proba 0.4545\n"
     ]
    }
   ],
   "source": [
    "# Print out the marginas dist. of the final node and associated scores (normalized to a distribution, st they sum to 1)\n",
    "# (TODO), e.g.,\n",
    "# 6,  0.95 (equiv. grid square: 1,1)\n",
    "# 18, 0.05 (equiv. grid square: 3,3)\n",
    "\n",
    "final_nodes = dict.fromkeys(list(set(vstack(paths[:,0])[:,-1])),0)\n",
    "for path in paths:\n",
    "    final_nodes[path[0][-1]] += path[1]\n",
    "print(\"{} potential final nodes:\".format(len(final_nodes)))\n",
    "for node, proba in final_nodes.items():\n",
    "    print(\"    {} <=> tile {}, with proba {}\".format(node, tile2pos(node), round(proba,4)))"
   ]
  },
  {
   "cell_type": "code",
   "execution_count": 8,
   "metadata": {},
   "outputs": [
    {
     "name": "stdout",
     "output_type": "stream",
     "text": [
      "2 most probable node(s) :\n",
      "    2 <=> tile [0 2], with proba 0.4545\n",
      "    4 <=> tile [0 4], with proba 0.4545\n"
     ]
    }
   ],
   "source": [
    "final_nodes_probas = [proba for node, proba in final_nodes.items()]\n",
    "max_nodes = [(node,proba) for node, proba in final_nodes.items() if proba == max(final_nodes_probas)]\n",
    "\n",
    "print(\"{} most probable node(s) :\".format(len(max_nodes)))\n",
    "for node, proba in max_nodes:\n",
    "    print(\"    {} <=> tile {}, with proba {}\".format(node, tile2pos(node), round(proba,4)))"
   ]
  },
  {
   "cell_type": "code",
   "execution_count": 19,
   "metadata": {
    "scrolled": true
   },
   "outputs": [
    {
     "name": "stdout",
     "output_type": "stream",
     "text": [
      "Yes, pounce, because gain_pounce = 1.983 and gain_not_attempt = 1.732\n"
     ]
    }
   ],
   "source": [
    "# Decide whether to 'pounce' or not\n",
    "# (TODO), e.g., 'Yes'\n",
    "\n",
    "catching = 10\n",
    "missing  = 1\n",
    "not_attempt = 3\n",
    "\n",
    "proba = max_nodes[0][1]\n",
    "gain_pounce = sqrt(catching)*proba + sqrt(missing)*(1-proba)\n",
    "gain_not_attempt = sqrt(3)\n",
    "\n",
    "decision = \"Yes, pounce\" if gain_pounce > gain_not_attempt else \"No, don't pounce\"\n",
    "\n",
    "print(\"{}, because gain_pounce = {:.4} and gain_not_attempt = {:.4}\".format(decision, gain_pounce, gain_not_attempt))"
   ]
  },
  {
   "cell_type": "code",
   "execution_count": 20,
   "metadata": {},
   "outputs": [
    {
     "name": "stdout",
     "output_type": "stream",
     "text": [
      "y = [4 3 2 3 2] <=> tile path: [(0, 4), (0, 3), (0, 2), (0, 3), (0, 2)], finishing at y = 2 (tile: [0 2])\n"
     ]
    }
   ],
   "source": [
    "# Compare to the true path (Evaluation):\n",
    "print(\"y = %s <=> tile path: %s, finishing at y = %d (tile: %s)\" % (str(y), str([(tile2pos(y[i])[0],tile2pos(y[i])[1]) for i in range(len(y))]),y[-1],str(tile2pos(y[-1]))))"
   ]
  },
  {
   "cell_type": "code",
   "execution_count": null,
   "metadata": {},
   "outputs": [],
   "source": []
  }
 ],
 "metadata": {
  "kernelspec": {
   "display_name": "Python 3",
   "language": "python",
   "name": "python3"
  },
  "language_info": {
   "codemirror_mode": {
    "name": "ipython",
    "version": 3
   },
   "file_extension": ".py",
   "mimetype": "text/x-python",
   "name": "python",
   "nbconvert_exporter": "python",
   "pygments_lexer": "ipython3",
   "version": "3.6.8"
  }
 },
 "nbformat": 4,
 "nbformat_minor": 2
}
