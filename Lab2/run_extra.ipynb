{
 "cells": [
  {
   "cell_type": "code",
   "execution_count": 1,
   "metadata": {},
   "outputs": [
    {
     "name": "stdout",
     "output_type": "stream",
     "text": [
      "p(Drama|x) = 0.304\n",
      "p(Adventure|x) = 0.272\n",
      "p(Fantasy|x) = 0.268\n",
      "p(Sci-Fi|x) = 0.248\n",
      "p(Comedy|x) = 0.228\n",
      "p(Short|x) = 0.220\n",
      "p(Family|x) = 0.141\n",
      "p(Romance|x) = 0.121\n",
      "p(Animation|x) = 0.119\n",
      "p(Action|x) = 0.114\n",
      "p(Documentary|x) = 0.091\n",
      "p(Mystery|x) = 0.078\n",
      "p(History|x) = 0.066\n",
      "p(Horror|x) = 0.045\n",
      "p(Thriller|x) = 0.042\n",
      "p(Sport|x) = 0.030\n",
      "p(Musical|x) = 0.027\n",
      "p(Biography|x) = 0.018\n",
      "p(War|x) = 0.013\n",
      "p(Music|x) = 0.013\n",
      "p(Crime|x) = 0.013\n",
      "p(News|x) = 0.005\n",
      "p(Western|x) = 0.004\n",
      "p(Adult|x) = 0.003\n",
      "p(Reality-TV|x) = 0.001\n",
      "p(Talk-Show|x) = 0.000\n",
      "p(Film-Noir|x) = 0.000\n",
      "p(Game-Show|x) = 0.000\n"
     ]
    }
   ],
   "source": [
    "from numpy import argsort\n",
    "from sklearn.externals import joblib\n",
    "\n",
    "# Load labels\n",
    "labels = joblib.load('labels.dat')\n",
    "# Load vectorizor\n",
    "f = joblib.load('f.dat')\n",
    "# Load model\n",
    "h = joblib.load('h.dat')\n",
    "# Load plot summary\n",
    "my_plot_summary = open('my_summary.txt', 'r').read()\n",
    "\n",
    "# Test ...\n",
    "xtest = f.transform([my_plot_summary]).toarray()\n",
    "ppred = h.predict_proba(xtest)\n",
    "for j in argsort(-ppred[0,:]):\n",
    "    print(\"p(%s|x) = %4.3f\" % (labels[j],ppred[0,j]))"
   ]
  },
  {
   "cell_type": "code",
   "execution_count": null,
   "metadata": {},
   "outputs": [],
   "source": []
  }
 ],
 "metadata": {
  "kernelspec": {
   "display_name": "Python 3",
   "language": "python",
   "name": "python3"
  },
  "language_info": {
   "codemirror_mode": {
    "name": "ipython",
    "version": 3
   },
   "file_extension": ".py",
   "mimetype": "text/x-python",
   "name": "python",
   "nbconvert_exporter": "python",
   "pygments_lexer": "ipython3",
   "version": "3.6.8"
  }
 },
 "nbformat": 4,
 "nbformat_minor": 2
}
