{
 "cells": [
  {
   "cell_type": "code",
   "execution_count": 1,
   "metadata": {},
   "outputs": [
    {
     "name": "stdout",
     "output_type": "stream",
     "text": [
      "Load Raw Data ...\n"
     ]
    },
    {
     "name": "stderr",
     "output_type": "stream",
     "text": [
      "/Users/acarossio/venv/lib/python3.6/site-packages/ipykernel_launcher.py:15: FutureWarning: Method .as_matrix will be removed in a future version. Use .values instead.\n",
      "  from ipykernel import kernelapp as app\n"
     ]
    },
    {
     "name": "stdout",
     "output_type": "stream",
     "text": [
      "\tLoaded Text = 348664 x 1  and Y = 348664 x 28\n",
      "Process Data; Create Bag-of-Words Feature Space ...\n",
      "Stacking Together, Adding Header ...\n",
      "Writing out Vectorizor and Labels ...\n",
      "Writing out Data ...\n"
     ]
    }
   ],
   "source": [
    "from numpy import *\n",
    "import pandas as pd\n",
    "\n",
    "##########################################################\n",
    "print(\"Load Raw Data ...\")\n",
    "\n",
    "data = pd.read_csv('imdb.csv.gz', encoding = \"ISO-8859-1\")\n",
    "\n",
    "# (We won't care about the title)\n",
    "del data['TITLE'] \n",
    "N,LD = data.shape\n",
    "L = LD - 1\n",
    "\n",
    "# Labels\n",
    "Y = data.iloc[:,0:L].as_matrix().astype(int)\n",
    "lbls = data.columns.values.tolist()\n",
    "\n",
    "# Summaries\n",
    "text = data[\"SUMMARY\"]                               \n",
    "\n",
    "print(\"\\tLoaded Text = %d x 1  and Y = %d x %d\" % (N,N,L))\n",
    "\n",
    "##########################################################\n",
    "print(\"Process Data; Create Bag-of-Words Feature Space ...\")\n",
    "\n",
    "from sklearn.feature_extraction.text import CountVectorizer\n",
    "\n",
    "f = CountVectorizer(encoding = \"ISO-8859-1\", decode_error='ignore', max_df=0.95, min_df=2, max_features=1000, stop_words='english')\n",
    "\n",
    "X = f.fit_transform(text).toarray()\n",
    "N,D = X.shape\n",
    "\n",
    "##########################################################\n",
    "print(\"Stacking Together, Adding Header ...\")\n",
    "XY = column_stack([Y,X])\n",
    "header = ','.join(lbls[0:-1])\n",
    "words = ['' for i in range(D)]\n",
    "for k in f.vocabulary_.keys():\n",
    "    i = f.vocabulary_[k]\n",
    "    words[i] = 'w_'+k\n",
    "header = header + ',' + ','.join(words)\n",
    "#print(header)\n",
    "\n",
    "##########################################################\n",
    "print(\"Writing out Vectorizor and Labels ...\")\n",
    "\n",
    "from sklearn.externals import joblib\n",
    "joblib.dump(lbls, 'labels.dat')\n",
    "joblib.dump(f, 'f.dat')\n",
    "\n",
    "##########################################################\n",
    "print(\"Writing out Data ...\")\n",
    "#savetxt('imdb_vectorized.csv', XY[0:50000], fmt='%d', delimiter=',', comments='', header=header)\n",
    "savetxt('imdb_vectorized.csv.gz', XY, fmt='%d', delimiter=',', comments='', header=header)"
   ]
  },
  {
   "cell_type": "code",
   "execution_count": null,
   "metadata": {},
   "outputs": [],
   "source": []
  }
 ],
 "metadata": {
  "kernelspec": {
   "display_name": "Python 3",
   "language": "python",
   "name": "python3"
  },
  "language_info": {
   "codemirror_mode": {
    "name": "ipython",
    "version": 3
   },
   "file_extension": ".py",
   "mimetype": "text/x-python",
   "name": "python",
   "nbconvert_exporter": "python",
   "pygments_lexer": "ipython3",
   "version": "3.6.8"
  }
 },
 "nbformat": 4,
 "nbformat_minor": 2
}
