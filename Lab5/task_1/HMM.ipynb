{
 "cells": [
  {
   "cell_type": "code",
   "execution_count": 1,
   "metadata": {},
   "outputs": [],
   "source": [
    "from numpy import *"
   ]
  },
  {
   "cell_type": "code",
   "execution_count": 3,
   "metadata": {},
   "outputs": [],
   "source": [
    "class Environment:\n",
    "\n",
    "    # Possible states {s0,s1,…}\n",
    "    states = array([0,1]) \n",
    "    # Array of initial probabilities: pi[i] stores the probability that y0 = si\n",
    "    # pi ( e.g., p(y = 1) = 0.1 )\n",
    "    pi = array([0.9, 0.1])\n",
    "    K = len(pi)\n",
    "\n",
    "    # K*K Transition matrix: g[i,j] stores the probability of transiting from state yi to yj\n",
    "    # theta ( e.g., p(y' = 1 | y = 0) = f[y',y] = f[1,0] =  0.3 )\n",
    "    f = array([[0.6, 0.4], \n",
    "               [0.3, 0.7]])\n",
    "\n",
    "    # Observation space\n",
    "    observations = array([0,1])\n",
    "    N = len(observations)\n",
    "\n",
    "    # K*N Emission matrix: f[i,j] stores the probability of observing xj from state yi\n",
    "    # phi ( e.g., p(x = 1 | y = 0) = g[x,y] = g[1,0] =  0.1 ) \n",
    "    g = array([[0.8,0.2],\n",
    "               [0.1,0.9]])\n",
    "\n",
    "    def __init__(self):\n",
    "        pass"
   ]
  },
  {
   "cell_type": "code",
   "execution_count": 80,
   "metadata": {},
   "outputs": [],
   "source": [
    "def viterbi(x, env):\n",
    "    \"\"\"\n",
    "        Viterbi Algorithm (MPE / MAP)\n",
    "        -----------------------------\n",
    "\n",
    "        x : observation\n",
    "        env : environment (models)\n",
    "\n",
    "        Returns\n",
    "        -------\n",
    "\n",
    "        both \n",
    "            - the most likely sequence argmax_y p(y|x) and \n",
    "            - the value max_y p(y|x).\n",
    "    \"\"\"\n",
    "    T = len(x)\n",
    "\n",
    "    y = zeros((env.K,T)) # Each element y[i,j] stores the most likely path so far y=(y0,…,yj) with yj = si, that generates x=(x0,…,xj)\n",
    "    p = zeros((env.K,T)) # Each element p[i,j] stores the probability of this most likely path\n",
    "\n",
    "    for i in env.states:\n",
    "        p[i,0] = env.pi[i]*env.g[i,x[0]] # proba of the paths for the first observation\n",
    "        y[i,0] = i\n",
    "\n",
    "    for j in range(1,T): # for each observation\n",
    "        for i in env.states: # for each state\n",
    "            probas = []\n",
    "            for k in env.states: # for each state\n",
    "                probas.append(p[k,j-1]*env.f[k,i]*env.g[i,x[j]])\n",
    "\n",
    "            #print(probas)\n",
    "            p[i,j] = max(probas)\n",
    "            y[i,j] = argmax(probas)\n",
    "    \n",
    "    print(p,y)\n",
    "    \n",
    "    y_prob = max(p[:,T-1]) # best state for final observation path\n",
    "    y_max  = y[argmax(max(p[:,T-1])),:]\n",
    "\n",
    "    return y_max, y_prob"
   ]
  },
  {
   "cell_type": "code",
   "execution_count": 81,
   "metadata": {},
   "outputs": [
    {
     "name": "stdout",
     "output_type": "stream",
     "text": [
      "[[7.20000000e-01 3.45600000e-01 1.65888000e-01 7.96262400e-02\n",
      "  9.55514880e-03 1.71992678e-03 1.08355387e-03 6.82638941e-04\n",
      "  1.72025013e-03]\n",
      " [1.00000000e-02 2.88000000e-02 1.38240000e-02 6.63552000e-03\n",
      "  2.86654464e-02 1.80592312e-02 1.13773157e-02 7.16770888e-03\n",
      "  5.01739621e-04]] [[0. 0. 0. 0. 0. 1. 1. 1. 1.]\n",
      " [1. 0. 0. 0. 0. 1. 1. 1. 1.]]\n",
      "-----\n",
      "[0. 0. 0. 0. 0. 1. 1. 1. 1.] 0.001720250130235392\n"
     ]
    }
   ],
   "source": [
    "env = Environment()\n",
    "x = array([0,0,0,0,1,1,1,1,0])\n",
    "y_max, y_prob = viterbi(x, env)\n",
    "\n",
    "print(\"-----\")\n",
    "print(y_max, y_prob)"
   ]
  },
  {
   "cell_type": "code",
   "execution_count": null,
   "metadata": {},
   "outputs": [],
   "source": []
  }
 ],
 "metadata": {
  "kernelspec": {
   "display_name": "Python 3",
   "language": "python",
   "name": "python3"
  },
  "language_info": {
   "codemirror_mode": {
    "name": "ipython",
    "version": 3
   },
   "file_extension": ".py",
   "mimetype": "text/x-python",
   "name": "python",
   "nbconvert_exporter": "python",
   "pygments_lexer": "ipython3",
   "version": "3.6.8"
  }
 },
 "nbformat": 4,
 "nbformat_minor": 2
}
