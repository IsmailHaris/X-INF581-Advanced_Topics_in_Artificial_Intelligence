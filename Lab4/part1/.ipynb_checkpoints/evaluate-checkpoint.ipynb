{
 "cells": [
  {
   "cell_type": "code",
   "execution_count": 1,
   "metadata": {},
   "outputs": [],
   "source": [
    "from sklearn.multiclass import OneVsRestClassifier\n",
    "from sklearn.linear_model import LogisticRegression\n",
    "import csv\n",
    "from sklearn.metrics import f1_score\n",
    "from scipy.io import loadmat\n",
    "from sklearn.utils import shuffle as skshuffle\n",
    "import numpy as np\n",
    "from collections import defaultdict\n",
    "import sys"
   ]
  },
  {
   "cell_type": "code",
   "execution_count": 2,
   "metadata": {},
   "outputs": [
    {
     "name": "stderr",
     "output_type": "stream",
     "text": [
      "/Users/acarossio/venv/lib/python3.6/site-packages/sklearn/metrics/classification.py:1143: UndefinedMetricWarning: F-score is ill-defined and being set to 0.0 in labels with no predicted samples.\n",
      "  'precision', 'predicted', average, warn_for)\n",
      "/Users/acarossio/venv/lib/python3.6/site-packages/sklearn/metrics/classification.py:1145: UndefinedMetricWarning: F-score is ill-defined and being set to 0.0 in labels with no true samples.\n",
      "  'recall', 'true', average, warn_for)\n",
      "/Users/acarossio/venv/lib/python3.6/site-packages/sklearn/metrics/classification.py:1143: UndefinedMetricWarning: F-score is ill-defined and being set to 0.0 in labels with no predicted samples.\n",
      "  'precision', 'predicted', average, warn_for)\n",
      "/Users/acarossio/venv/lib/python3.6/site-packages/sklearn/metrics/classification.py:1145: UndefinedMetricWarning: F-score is ill-defined and being set to 0.0 in labels with no true samples.\n",
      "  'recall', 'true', average, warn_for)\n",
      "/Users/acarossio/venv/lib/python3.6/site-packages/sklearn/metrics/classification.py:1143: UndefinedMetricWarning: F-score is ill-defined and being set to 0.0 in labels with no predicted samples.\n",
      "  'precision', 'predicted', average, warn_for)\n",
      "/Users/acarossio/venv/lib/python3.6/site-packages/sklearn/metrics/classification.py:1143: UndefinedMetricWarning: F-score is ill-defined and being set to 0.0 in labels with no predicted samples.\n",
      "  'precision', 'predicted', average, warn_for)\n"
     ]
    },
    {
     "name": "stdout",
     "output_type": "stream",
     "text": [
      "Results, using embeddings of dimensionality 256\n",
      "-------------------\n",
      "Train percent: 0.9\n",
      "{'micro': 0.20398773006134968, 'macro': 0.17342034084686034}\n",
      "{'micro': 0.19874804381846636, 'macro': 0.1709126739661375}\n",
      "{'micro': 0.21356421356421357, 'macro': 0.17147318736769168}\n",
      "{'micro': 0.20121951219512194, 'macro': 0.1605013611313833}\n",
      "{'micro': 0.2196969696969697, 'macro': 0.16803535603841835}\n",
      "-------------------\n"
     ]
    },
    {
     "name": "stderr",
     "output_type": "stream",
     "text": [
      "/Users/acarossio/venv/lib/python3.6/site-packages/sklearn/metrics/classification.py:1143: UndefinedMetricWarning: F-score is ill-defined and being set to 0.0 in labels with no predicted samples.\n",
      "  'precision', 'predicted', average, warn_for)\n"
     ]
    }
   ],
   "source": [
    "############## Question 3\n",
    "# Evaluate node embedding algorithms\n",
    "\n",
    "# Specify the file where the embeddings are stored and their dimensionality\n",
    "\n",
    "deepwalk_path = \"embeddings/deepwalk_embeddings\"\n",
    "spectral_path = \"embeddings/spectral_embeddings\"\n",
    "\n",
    "embeddings_file = deepwalk_path\n",
    "\n",
    "embeddings_dim = 256\n",
    "\n",
    "class TopKRanker(OneVsRestClassifier):\n",
    "    def predict(self, X, top_k_list):\n",
    "        probs = super(TopKRanker, self).predict_proba(X)\n",
    "        y_pred = np.zeros(probs.shape)\n",
    "        for i in range(len(top_k_list)):\n",
    "            probs_ = probs[i,:].argsort()[::-1]\n",
    "            for j in range(int(top_k_list[i][0])):\n",
    "                y_pred[i,probs_[j]] = 1\n",
    "        return y_pred\n",
    "\n",
    "# 0. Files\n",
    "matfile = \"data/Homo_sapiens.mat\"\n",
    "\n",
    "# 1. Load labels\n",
    "mat = loadmat(matfile)\n",
    "labels_matrix = mat['group']\n",
    "\n",
    "# 2. Load Embeddings\n",
    "features_matrix = np.zeros((labels_matrix.shape[0],embeddings_dim))\n",
    "\n",
    "with open(embeddings_file,'r') as f:\n",
    "    reader=csv.reader(f,delimiter=' ')\n",
    "    for row in reader:\n",
    "        features_matrix[int(row[0]),:] = np.array(row[1:])\n",
    "\n",
    "\n",
    "# 3. Shuffle, to create train/test groups\n",
    "shuffles = []\n",
    "number_shuffles = 5\n",
    "for x in range(number_shuffles):\n",
    "    shuffles.append(skshuffle(features_matrix, labels_matrix))\n",
    "\n",
    "# 4. to score each train/test group\n",
    "all_results = defaultdict(list)\n",
    "\n",
    "training_percents = [0.9]\n",
    "for train_percent in training_percents:\n",
    "    for shuf in shuffles:\n",
    "\n",
    "        X, y = shuf\n",
    "\n",
    "        training_size = int(train_percent * X.shape[0])\n",
    "\n",
    "        X_train = X[:training_size, :]\n",
    "        y_train = y[:training_size]\n",
    "\n",
    "        X_test = X[training_size:, :]\n",
    "        y_test = y[training_size:]\n",
    "\n",
    "        clf = TopKRanker(LogisticRegression(solver=\"lbfgs\"))\n",
    "        clf.fit(X_train, y_train)\n",
    "\n",
    "        # find out how many labels should be predicted\n",
    "        top_k_list = np.sum(y_test, axis=1).tolist()\n",
    "        y_pred = clf.predict(X_test, top_k_list)\n",
    "\n",
    "        results = {}\n",
    "        averages = [\"micro\", \"macro\"]\n",
    "        for average in averages:\n",
    "            results[average] = f1_score(y_test,  y_pred, average=average)\n",
    "\n",
    "        all_results[train_percent].append(results)\n",
    "\n",
    "print('Results, using embeddings of dimensionality', X.shape[1])\n",
    "print('-------------------')\n",
    "for train_percent in sorted(all_results.keys()):\n",
    "    print('Train percent:', train_percent)\n",
    "    for x in all_results[train_percent]:\n",
    "        print(x)\n",
    "    print('-------------------')\n",
    "\n"
   ]
  },
  {
   "cell_type": "code",
   "execution_count": null,
   "metadata": {},
   "outputs": [],
   "source": []
  }
 ],
 "metadata": {
  "kernelspec": {
   "display_name": "Python 3",
   "language": "python",
   "name": "python3"
  },
  "language_info": {
   "codemirror_mode": {
    "name": "ipython",
    "version": 3
   },
   "file_extension": ".py",
   "mimetype": "text/x-python",
   "name": "python",
   "nbconvert_exporter": "python",
   "pygments_lexer": "ipython3",
   "version": "3.6.8"
  }
 },
 "nbformat": 4,
 "nbformat_minor": 2
}
