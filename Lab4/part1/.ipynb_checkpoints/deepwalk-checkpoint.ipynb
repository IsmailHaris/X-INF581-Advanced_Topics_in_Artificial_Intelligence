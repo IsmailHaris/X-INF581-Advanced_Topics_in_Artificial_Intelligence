{
 "cells": [
  {
   "cell_type": "code",
   "execution_count": 1,
   "metadata": {},
   "outputs": [],
   "source": [
    "import numpy as np\n",
    "import networkx as nx\n",
    "from scipy.io import loadmat\n",
    "from gensim.models import Word2Vec"
   ]
  },
  {
   "cell_type": "code",
   "execution_count": 2,
   "metadata": {},
   "outputs": [],
   "source": [
    "############## Question 2\n",
    "# Implement the deepwalk algorithm\n",
    "\n",
    "def random_walk(G, node, walk_length):\n",
    "    # Starts from vertex \"node\" and performs a random walk of length \"walk length\". Returns a list of the visited vertices\n",
    "    \n",
    "    walk = [node]\n",
    "    for i in range(walk_length):\n",
    "        neighbors = list(G.neighbors(node))\n",
    "        node = neighbors[np.random.randint(0,high=len(neighbors))]\n",
    "        walk.append(node)\n",
    "\n",
    "    walk = [str(node) for node in walk]\n",
    "    return walk\n",
    "\n",
    "\n",
    "def generate_walks(graph, num_walks, walk_length):\n",
    "    # Runs \"num_walks\" random walks from each node, and returns a list of all random walk\n",
    "    \n",
    "    walks = []\n",
    "\n",
    "    for node in graph.nodes():\n",
    "        for i in range(num_walks):\n",
    "            walks.append(random_walk(graph, node, walk_length))\n",
    "\n",
    "    return walks\n",
    "\n",
    "\n",
    "def learn_embeddings_and_write_to_disk(graph, walks, window_size, d):\n",
    "    model = Word2Vec(walks, size=d, window=window_size, min_count=0, sg=1, workers=8, iter=2)\n",
    "    fout = open('embeddings/deepwalk_embeddings', 'w', encoding=\"UTF-8\")\n",
    "    for i in range(G.number_of_nodes()):\n",
    "        e = model.wv[str(i)]\n",
    "        e = ' '.join(map(lambda x: str(x), e))\n",
    "        fout.write('%s %s\\n' % (i, e))"
   ]
  },
  {
   "cell_type": "code",
   "execution_count": 3,
   "metadata": {},
   "outputs": [],
   "source": [
    "size = 256\n",
    "num_walks = 30\n",
    "d = {}\n",
    "loadmat('data/Homo_sapiens.mat', mdict=d)\n",
    "A = d['network']\n",
    "G = nx.from_scipy_sparse_matrix(A)\n",
    "walks = generate_walks(G, 7, 40)\n",
    "learn_embeddings_and_write_to_disk(G, walks, num_walks, size)"
   ]
  }
 ],
 "metadata": {
  "kernelspec": {
   "display_name": "Python 3",
   "language": "python",
   "name": "python3"
  },
  "language_info": {
   "codemirror_mode": {
    "name": "ipython",
    "version": 3
   },
   "file_extension": ".py",
   "mimetype": "text/x-python",
   "name": "python",
   "nbconvert_exporter": "python",
   "pygments_lexer": "ipython3",
   "version": "3.6.8"
  }
 },
 "nbformat": 4,
 "nbformat_minor": 2
}
