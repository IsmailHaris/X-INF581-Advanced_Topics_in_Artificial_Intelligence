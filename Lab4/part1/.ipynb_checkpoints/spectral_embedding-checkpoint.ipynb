{
 "cells": [
  {
   "cell_type": "code",
   "execution_count": 1,
   "metadata": {},
   "outputs": [],
   "source": [
    "from scipy.io import loadmat\n",
    "import numpy as np"
   ]
  },
  {
   "cell_type": "code",
   "execution_count": 18,
   "metadata": {},
   "outputs": [],
   "source": [
    "############## Question 1\n",
    "# Implement Algorithm 1\n",
    "\n",
    "def generate_spectral_embeddings(A, d):\n",
    "    # Function that generates spectral embeddings\n",
    "\n",
    "    D = np.diag(np.sum(A.A, axis=1))\n",
    "    L = D-A\n",
    "    V, U = np.linalg.eigh(L)\n",
    "    U = U[:,np.argsort(V)][:,:d]\n",
    "\n",
    "    return U.A\n",
    "\n",
    "\n",
    "def write_to_disk(U):\n",
    "    fout = open('embeddings/spectral_embeddings', 'w', encoding=\"UTF-8\")\n",
    "    for i in range(U.shape[0]):\n",
    "        e = U[i,:]\n",
    "        e = ' '.join(map(lambda x: str(x), e))\n",
    "        fout.write('%s %s\\n' % (i, e))"
   ]
  },
  {
   "cell_type": "code",
   "execution_count": 19,
   "metadata": {},
   "outputs": [],
   "source": [
    "size = 256\n",
    "d = dict()\n",
    "loadmat('data/Homo_sapiens.mat', mdict=d)\n",
    "A = d['network']\n",
    "U = generate_spectral_embeddings(A, size)\n",
    "write_to_disk(U)"
   ]
  }
 ],
 "metadata": {
  "kernelspec": {
   "display_name": "Python 3",
   "language": "python",
   "name": "python3"
  },
  "language_info": {
   "codemirror_mode": {
    "name": "ipython",
    "version": 3
   },
   "file_extension": ".py",
   "mimetype": "text/x-python",
   "name": "python",
   "nbconvert_exporter": "python",
   "pygments_lexer": "ipython3",
   "version": "3.6.8"
  }
 },
 "nbformat": 4,
 "nbformat_minor": 2
}
